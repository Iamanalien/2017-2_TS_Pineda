{
 "cells": [
  {
   "cell_type": "markdown",
   "metadata": {
    "heading_collapsed": true
   },
   "source": [
    "# Trabajo colaborativo"
   ]
  },
  {
   "cell_type": "markdown",
   "metadata": {
    "hidden": true
   },
   "source": [
    "El flujo de trabajo que hasta ahora hemos visto es:\n",
    "\n",
    "```\n",
    "    > git init                  # inicializa un repositorio\n",
    "    > git add <archivo>         # da a conocer a git un archivo nuevo o un cambio en un archivo\n",
    "    > git status                # resume los cambios actuales\n",
    "    > git commit -m \"mensaje\"   # saca una foto instantánea del estado actual del proyecto \n",
    "    > git log                   # muestra la bitácora del proyecto\n",
    "\n",
    "```\n",
    "Otro comando que quizá usaron en la tarea fueron:\n",
    "```\n",
    "    > git push                  # sube los cambios a un repositorio central (local o remoto)\n",
    "```\n",
    "\n",
    "(Por ahora \">\" indicará la línea de comandos.)"
   ]
  },
  {
   "cell_type": "markdown",
   "metadata": {
    "hidden": true
   },
   "source": [
    "Ahora veremos un modelo posible de *colaboración*, que iremos complicando poco a poco. Además profundizaremos en el uso del push. "
   ]
  },
  {
   "cell_type": "markdown",
   "metadata": {
    "hidden": true
   },
   "source": [
    "La situación que consideraremos es la siguiente: Alicia (*Alice*) y Beto (*Bob*) colaboran en un proyecto (el que acabamos de clonar). Ambos tienen la misma versión del código. \n",
    "\n",
    "**Alicia:**\n",
    "Alicia edita el archivo `archivo.txt`, y hace algún cambio que le parece conveniente. Siguiendo el esquema de trabajo que describimos arriba, Alicia sube los cambios a su repositorio local con `git add` y `git commit`, y finalmente los sube al repositorio central: `git push`.\n",
    "\n",
    "**Beto:**\n",
    "Beto, por su parte y de manera independiente, hace cambios *al mismo archivo* en que trabajó Alicia. De la misma manera que lo hizo Alicia, Beto actualiza su repositorio local (`git add` y `git commit`) y los sube al repositorio que comparten con `git push`.\n",
    "\n",
    "*Sin embargo*, como él editó el mismo archivo en el que Alicia hizo cambios, pero usando una versión atrasada que *no* incluye los cambios de Alicia, entonces `git` detecta que hubo cambios divergentes entre la versión local de Beto, en la *rama* `master`, y la del repositorio remoto `origin/master`. Esto hace que `git` no permita subir los cambios que propone Beto, hasta que Beto resuelva los *conflictos* que hayan surgido."
   ]
  },
  {
   "cell_type": "markdown",
   "metadata": {
    "heading_collapsed": true,
    "hidden": true
   },
   "source": [
    "## Enviando los commits a otro repositorio\n",
    "\n",
    "Vamos a tratar de producir una situación controlada en la que tengamos dicha\n",
    "situación. \n",
    "\n",
    "Para esto vamos a crear un repositorio nuevo. Este repositorio no será de \n",
    "trabajo. Solamente tendrá la información de los archivos, y los comits. \n",
    "Para esto ejecutamos, desde un directorio de prueba (por ejemplo `/tmp` o `~/Desktop`"
   ]
  },
  {
   "cell_type": "code",
   "execution_count": 1,
   "metadata": {
    "collapsed": false,
    "hidden": true
   },
   "outputs": [
    {
     "name": "stdout",
     "output_type": "stream",
     "text": [
      "/mnt/homes/home/david/Desktop\n"
     ]
    }
   ],
   "source": [
    ";cd ~/Desktop"
   ]
  },
  {
   "cell_type": "code",
   "execution_count": 2,
   "metadata": {
    "collapsed": false,
    "hidden": true
   },
   "outputs": [
    {
     "name": "stdout",
     "output_type": "stream",
     "text": [
      "Initialized empty Git repository in /mnt/homes/home/david/Desktop/original.git/\n"
     ]
    }
   ],
   "source": [
    ";git init --bare original.git"
   ]
  },
  {
   "cell_type": "markdown",
   "metadata": {
    "hidden": true
   },
   "source": [
    "Los contenidos del directorio son los contenidos del directorio ´.git´ de otros\n",
    "repositorios normales. Esto es por la opción ´--bare´.   \n",
    "Después clonamos este repositorio \"central\" a otro directorio"
   ]
  },
  {
   "cell_type": "code",
   "execution_count": 3,
   "metadata": {
    "collapsed": false,
    "hidden": true
   },
   "outputs": [
    {
     "name": "stdout",
     "output_type": "stream",
     "text": [
      "total 2156\n",
      "drwxrwxr-x  6 david david    4096 feb 24 15:02 .\n",
      "drwxrwxr-- 27 david david 2170880 feb 24 15:02 ..\n",
      "-rw-rw-r--  1 david david      66 feb 24 15:02 config\n",
      "-rw-rw-r--  1 david david      73 feb 24 15:02 description\n",
      "-rw-rw-r--  1 david david      23 feb 24 15:02 HEAD\n",
      "drwxrwxr-x  2 david david    4096 feb 24 15:02 hooks\n",
      "drwxrwxr-x  2 david david    4096 feb 24 15:02 info\n",
      "drwxrwxr-x  4 david david    4096 feb 24 15:02 objects\n",
      "drwxrwxr-x  4 david david    4096 feb 24 15:02 refs\n"
     ]
    }
   ],
   "source": [
    ";ls -la original.git"
   ]
  },
  {
   "cell_type": "code",
   "execution_count": 4,
   "metadata": {
    "collapsed": false,
    "hidden": true
   },
   "outputs": [
    {
     "name": "stderr",
     "output_type": "stream",
     "text": [
      "Cloning into 'alice'...\n",
      "warning: You appear to have cloned an empty repository.\n",
      "done.\n"
     ]
    }
   ],
   "source": [
    ";git clone original.git alice"
   ]
  },
  {
   "cell_type": "markdown",
   "metadata": {
    "hidden": true
   },
   "source": [
    "Pero vemos que el repositorio nuevo es normal:"
   ]
  },
  {
   "cell_type": "code",
   "execution_count": 5,
   "metadata": {
    "collapsed": false,
    "hidden": true
   },
   "outputs": [
    {
     "name": "stdout",
     "output_type": "stream",
     "text": [
      "/mnt/homes/home/david/Desktop/alice\n"
     ]
    }
   ],
   "source": [
    ";cd alice"
   ]
  },
  {
   "cell_type": "code",
   "execution_count": 6,
   "metadata": {
    "collapsed": false,
    "hidden": true
   },
   "outputs": [
    {
     "name": "stdout",
     "output_type": "stream",
     "text": [
      "total 2132\n",
      "drwxrwxr-x  3 david david    4096 feb 24 15:02 ./\n",
      "drwxrwxr-- 28 david david 2170880 feb 24 15:02 ../\n",
      "drwxrwxr-x  6 david david    4096 feb 24 15:02 .git/\n"
     ]
    }
   ],
   "source": [
    ";ls -alp "
   ]
  },
  {
   "cell_type": "markdown",
   "metadata": {
    "hidden": true
   },
   "source": [
    "Ahora creamos un archivo de prueba ahi mismo y hacemos el procedimiento usual para hacer un commit."
   ]
  },
  {
   "cell_type": "code",
   "execution_count": 7,
   "metadata": {
    "collapsed": true,
    "hidden": true
   },
   "outputs": [],
   "source": [
    ";echo \"iniciamos este archivo con perros y gatos\" >> inicio.txt"
   ]
  },
  {
   "cell_type": "code",
   "execution_count": 8,
   "metadata": {
    "collapsed": false,
    "hidden": true
   },
   "outputs": [
    {
     "name": "stdout",
     "output_type": "stream",
     "text": [
      "[master (root-commit) 600fbcc] Commit inicial\n",
      " 1 file changed, 1 insertion(+)\n",
      " create mode 100644 inicio.txt\n"
     ]
    }
   ],
   "source": [
    ";git add . && git commit -m\"Commit inicial\""
   ]
  },
  {
   "cell_type": "markdown",
   "metadata": {
    "hidden": true
   },
   "source": [
    "Ahora, dado que clonamos el repositorio de otro, vamos a enviar los cambios (la creación del archivo `inicio.txt`) al respositio central:"
   ]
  },
  {
   "cell_type": "code",
   "execution_count": 9,
   "metadata": {
    "collapsed": false,
    "hidden": true
   },
   "outputs": [
    {
     "name": "stderr",
     "output_type": "stream",
     "text": [
      "To /mnt/homes/home/david/Desktop/original.git\n",
      " * [new branch]      master -> master\n"
     ]
    }
   ],
   "source": [
    ";git push origin master"
   ]
  },
  {
   "cell_type": "markdown",
   "metadata": {
    "hidden": true
   },
   "source": [
    "La sintaxis de este comando es `git push repository branchname`. En este caso, `repository` es la dirección o referencia de algun repositorio. Esta puede ser, por `git@github.com:git/git.git`, pero por lo generalusamos alguna que esté determinada por defecto. Por ejemplo, vamos a usar  \n",
    "`origin`  \n",
    "que de acuerdo a "
   ]
  },
  {
   "cell_type": "code",
   "execution_count": 10,
   "metadata": {
    "collapsed": false,
    "hidden": true
   },
   "outputs": [
    {
     "name": "stdout",
     "output_type": "stream",
     "text": [
      "origin\t/mnt/homes/home/david/Desktop/original.git (fetch)\n",
      "origin\t/mnt/homes/home/david/Desktop/original.git (push)\n"
     ]
    }
   ],
   "source": [
    ";git remote -v"
   ]
  },
  {
   "cell_type": "markdown",
   "metadata": {
    "hidden": true
   },
   "source": [
    "es `/home/carlosp/Desktop/tmp/original.git` (en mi caso). El `branchname` es la rama. Hasta ahora, no hemos creado ramas, por lo que nos referiremos a la rama principal, que se llama `master`. Después de el primer comando `git push origin master` podemos abreviarlo como `git push`.\n",
    "\n",
    "Ahora creamos un archivo sin importancia, y modificamos nuestro archivo importante:\n"
   ]
  },
  {
   "cell_type": "code",
   "execution_count": 11,
   "metadata": {
    "collapsed": true,
    "hidden": true
   },
   "outputs": [],
   "source": [
    ";echo \"informacion trivial\" >> algo.tmp && echo \"mas informacion\" >> inicio.txt"
   ]
  },
  {
   "cell_type": "code",
   "execution_count": 12,
   "metadata": {
    "collapsed": false,
    "hidden": true
   },
   "outputs": [
    {
     "name": "stdout",
     "output_type": "stream",
     "text": [
      "On branch master\n",
      "Your branch is up-to-date with 'origin/master'.\n",
      "\n",
      "Changes not staged for commit:\n",
      "  (use \"git add <file>...\" to update what will be committed)\n",
      "  (use \"git checkout -- <file>...\" to discard changes in working directory)\n",
      "\n",
      "\tmodified:   inicio.txt\n",
      "\n",
      "Untracked files:\n",
      "  (use \"git add <file>...\" to include in what will be committed)\n",
      "\n",
      "\talgo.tmp\n",
      "\n",
      "no changes added to commit (use \"git add\" and/or \"git commit -a\")\n"
     ]
    }
   ],
   "source": [
    ";git status"
   ]
  },
  {
   "cell_type": "markdown",
   "metadata": {
    "hidden": true
   },
   "source": [
    "Viendo el `status` notamos que `git` sabe que hemos cambiado el archivo `inicio.txt` y hemos creado un nuevo archivo `algo.tmp`. Supongamos que por error añadimos este último archivo sin importancia:"
   ]
  },
  {
   "cell_type": "code",
   "execution_count": 13,
   "metadata": {
    "collapsed": false,
    "hidden": true
   },
   "outputs": [
    {
     "name": "stdout",
     "output_type": "stream",
     "text": [
      "On branch master\n",
      "Your branch is up-to-date with 'origin/master'.\n",
      "\n",
      "Changes to be committed:\n",
      "  (use \"git reset HEAD <file>...\" to unstage)\n",
      "\n",
      "\tnew file:   algo.tmp\n",
      "\tmodified:   inicio.txt\n",
      "\n"
     ]
    }
   ],
   "source": [
    ";git add . && git status"
   ]
  },
  {
   "cell_type": "markdown",
   "metadata": {
    "hidden": true
   },
   "source": [
    "Entonces, el archivo `algo.tmp` se encuentra listo para que los sigamos. Sin embargo, no es lo que queremos. El comando "
   ]
  },
  {
   "cell_type": "code",
   "execution_count": 14,
   "metadata": {
    "collapsed": false,
    "hidden": true
   },
   "outputs": [
    {
     "name": "stdout",
     "output_type": "stream",
     "text": [
      "rm 'algo.tmp'\n"
     ]
    }
   ],
   "source": [
    ";git rm --cached algo.tmp"
   ]
  },
  {
   "cell_type": "markdown",
   "metadata": {
    "hidden": true
   },
   "source": [
    "hace que lo borremos de lo que queremos en el commit. Si lo incluimos en el `.gitignore`, entonces vemos que ya no aparece en el status:"
   ]
  },
  {
   "cell_type": "code",
   "execution_count": 15,
   "metadata": {
    "collapsed": true,
    "hidden": true
   },
   "outputs": [],
   "source": [
    ";echo \"algo.tmp\" >> .gitignore"
   ]
  },
  {
   "cell_type": "code",
   "execution_count": 16,
   "metadata": {
    "collapsed": false,
    "hidden": true
   },
   "outputs": [
    {
     "name": "stdout",
     "output_type": "stream",
     "text": [
      "On branch master\n",
      "Your branch is up-to-date with 'origin/master'.\n",
      "\n",
      "Changes to be committed:\n",
      "  (use \"git reset HEAD <file>...\" to unstage)\n",
      "\n",
      "\tmodified:   inicio.txt\n",
      "\n",
      "Untracked files:\n",
      "  (use \"git add <file>...\" to include in what will be committed)\n",
      "\n",
      "\t.gitignore\n",
      "\n",
      "[master 66ef914] Se mejora el gitignore y se anade mas informcion a inicio.txt\n",
      " 2 files changed, 2 insertions(+)\n",
      " create mode 100644 .gitignore\n"
     ]
    },
    {
     "name": "stderr",
     "output_type": "stream",
     "text": [
      "To /mnt/homes/home/david/Desktop/original.git\n",
      "   600fbcc..66ef914  master -> master\n"
     ]
    }
   ],
   "source": [
    ";git status && git add .  && git commit -m\"Se mejora el gitignore y se anade mas informcion a inicio.txt\" && git push"
   ]
  },
  {
   "cell_type": "markdown",
   "metadata": {
    "heading_collapsed": true,
    "hidden": true
   },
   "source": [
    "## Interaccion y errores controlados\n",
    "\n",
    "Comenzamos creando otro repositorio en el que otro personaje (Bob) va a trabajar."
   ]
  },
  {
   "cell_type": "code",
   "execution_count": 17,
   "metadata": {
    "collapsed": false,
    "hidden": true
   },
   "outputs": [
    {
     "name": "stdout",
     "output_type": "stream",
     "text": [
      "/mnt/homes/home/david/Desktop\n"
     ]
    }
   ],
   "source": [
    ";cd .. "
   ]
  },
  {
   "cell_type": "code",
   "execution_count": 18,
   "metadata": {
    "collapsed": false,
    "hidden": true
   },
   "outputs": [
    {
     "name": "stderr",
     "output_type": "stream",
     "text": [
      "Cloning into 'bob'...\n",
      "done.\n"
     ]
    }
   ],
   "source": [
    ";git clone original.git bob"
   ]
  },
  {
   "cell_type": "code",
   "execution_count": 19,
   "metadata": {
    "collapsed": false,
    "hidden": true
   },
   "outputs": [
    {
     "name": "stdout",
     "output_type": "stream",
     "text": [
      "/mnt/homes/home/david/Desktop/bob\n"
     ]
    }
   ],
   "source": [
    ";cd bob"
   ]
  },
  {
   "cell_type": "markdown",
   "metadata": {
    "hidden": true
   },
   "source": [
    "Para facilitar un poco la lectura de los logs, vamos a poner otro nombre para el usuario:"
   ]
  },
  {
   "cell_type": "code",
   "execution_count": 20,
   "metadata": {
    "collapsed": false,
    "hidden": true
   },
   "outputs": [],
   "source": [
    ";git config user.name Bob"
   ]
  },
  {
   "cell_type": "markdown",
   "metadata": {
    "heading_collapsed": true,
    "hidden": true
   },
   "source": [
    "## Bob hace un cambio y Alice lo ve"
   ]
  },
  {
   "cell_type": "markdown",
   "metadata": {
    "hidden": true
   },
   "source": [
    "Ahora vamos a crear un nuevo archivo, y a enviarlo."
   ]
  },
  {
   "cell_type": "code",
   "execution_count": 21,
   "metadata": {
    "collapsed": true,
    "hidden": true
   },
   "outputs": [],
   "source": [
    ";echo \"esta es una idea de Bob\" >> idea_bob.txt"
   ]
  },
  {
   "cell_type": "code",
   "execution_count": 22,
   "metadata": {
    "collapsed": false,
    "hidden": true
   },
   "outputs": [
    {
     "name": "stdout",
     "output_type": "stream",
     "text": [
      "[master ce94b43] Nueva idea\n",
      " 1 file changed, 1 insertion(+)\n",
      " create mode 100644 idea_bob.txt\n",
      "commit ce94b43bab15d6408ec4d3e78233a65eec2a69e6\n",
      "Author: Bob <davidwarro@gmail.com>\n",
      "Date:   Fri Feb 24 15:02:15 2017 -0600\n",
      "\n",
      "    Nueva idea\n",
      "\n",
      "commit 66ef9145b9f12f222e419adc7942570010289df8\n",
      "Author: davidphysdavalos <davidwarro@gmail.com>\n",
      "Date:   Fri Feb 24 15:02:12 2017 -0600\n",
      "\n",
      "    Se mejora el gitignore y se anade mas informcion a inicio.txt\n",
      "\n",
      "commit 600fbcc03e46cdfffda5711d1b9ba2c9fbbb1b96\n",
      "Author: davidphysdavalos <davidwarro@gmail.com>\n",
      "Date:   Fri Feb 24 15:02:07 2017 -0600\n",
      "\n",
      "    Commit inicial\n"
     ]
    },
    {
     "name": "stderr",
     "output_type": "stream",
     "text": [
      "To /mnt/homes/home/david/Desktop/original.git\n",
      "   66ef914..ce94b43  master -> master\n"
     ]
    }
   ],
   "source": [
    ";git add . && git commit -m\"Nueva idea\" && git push && git log"
   ]
  },
  {
   "cell_type": "markdown",
   "metadata": {
    "hidden": true
   },
   "source": [
    "Ahora, veamos que es lo que Alice ve. "
   ]
  },
  {
   "cell_type": "code",
   "execution_count": 23,
   "metadata": {
    "collapsed": false,
    "hidden": true
   },
   "outputs": [
    {
     "name": "stdout",
     "output_type": "stream",
     "text": [
      "/mnt/homes/home/david/Desktop/alice\n"
     ]
    }
   ],
   "source": [
    ";cd ../alice"
   ]
  },
  {
   "cell_type": "code",
   "execution_count": 24,
   "metadata": {
    "collapsed": false,
    "hidden": true
   },
   "outputs": [
    {
     "name": "stdout",
     "output_type": "stream",
     "text": [
      "Updating 66ef914..ce94b43\n",
      "Fast-forward\n",
      " idea_bob.txt | 1 +\n",
      " 1 file changed, 1 insertion(+)\n",
      " create mode 100644 idea_bob.txt\n"
     ]
    },
    {
     "name": "stderr",
     "output_type": "stream",
     "text": [
      "From /mnt/homes/home/david/Desktop/original\n",
      "   66ef914..ce94b43  master     -> origin/master\n"
     ]
    }
   ],
   "source": [
    ";git pull"
   ]
  },
  {
   "cell_type": "code",
   "execution_count": 25,
   "metadata": {
    "collapsed": false,
    "hidden": true
   },
   "outputs": [
    {
     "name": "stdout",
     "output_type": "stream",
     "text": [
      "algo.tmp\n",
      "idea_bob.txt\n",
      "inicio.txt\n"
     ]
    }
   ],
   "source": [
    ";ls"
   ]
  },
  {
   "cell_type": "markdown",
   "metadata": {
    "hidden": true
   },
   "source": [
    "Efectivamente, ahora Alice tiene la nueva idea de Bob "
   ]
  },
  {
   "cell_type": "markdown",
   "metadata": {
    "hidden": true
   },
   "source": [
    "### Alice y Bob hacen cambios en archivos diferentes"
   ]
  },
  {
   "cell_type": "markdown",
   "metadata": {
    "hidden": true
   },
   "source": [
    "Vamos a hacer un cambio en un archivo de Alice, y a enviarlo al repositorio. \n",
    "\n",
    "Posteriormente intentaremos hacer lo mismo con Bob."
   ]
  },
  {
   "cell_type": "code",
   "execution_count": 26,
   "metadata": {
    "collapsed": false,
    "hidden": true
   },
   "outputs": [
    {
     "name": "stdout",
     "output_type": "stream",
     "text": [
      "[master d68cd6f] Se anade la fecha\n",
      " 1 file changed, 1 insertion(+)\n"
     ]
    },
    {
     "name": "stderr",
     "output_type": "stream",
     "text": [
      "To /mnt/homes/home/david/Desktop/original.git\n",
      "   ce94b43..d68cd6f  master -> master\n"
     ]
    }
   ],
   "source": [
    ";date >> inicio.txt && git add . && git commit -m\"Se anade la fecha\" && git push"
   ]
  },
  {
   "cell_type": "code",
   "execution_count": 27,
   "metadata": {
    "collapsed": false,
    "hidden": true
   },
   "outputs": [
    {
     "name": "stdout",
     "output_type": "stream",
     "text": [
      "/mnt/homes/home/david/Desktop/bob\n"
     ]
    }
   ],
   "source": [
    ";cd ../bob"
   ]
  },
  {
   "cell_type": "code",
   "execution_count": 28,
   "metadata": {
    "collapsed": false,
    "hidden": true
   },
   "outputs": [
    {
     "name": "stdout",
     "output_type": "stream",
     "text": [
      "[master ca086b7] Se anade otra fecha\n",
      " 1 file changed, 1 insertion(+)\n"
     ]
    },
    {
     "name": "stderr",
     "output_type": "stream",
     "text": [
      "To /mnt/homes/home/david/Desktop/original.git\n",
      " ! [rejected]        master -> master (fetch first)\n",
      "error: failed to push some refs to '/mnt/homes/home/david/Desktop/original.git'\n",
      "hint: Updates were rejected because the remote contains work that you do\n",
      "hint: not have locally. This is usually caused by another repository pushing\n",
      "hint: to the same ref. You may want to first integrate the remote changes\n",
      "hint: (e.g., 'git pull ...') before pushing again.\n",
      "hint: See the 'Note about fast-forwards' in 'git push --help' for details.\n"
     ]
    }
   ],
   "source": [
    ";date >> idea_bob.txt && git add . && git commit -m\"Se anade otra fecha\" && git push"
   ]
  },
  {
   "cell_type": "markdown",
   "metadata": {
    "hidden": true
   },
   "source": [
    "Tenemos un problema. El cambio qeu queremos hacer ha sido rechazado [rejected]\n",
    "\n",
    "De hecho, `git` nos está diciendo como resolver el problema. Debemos traer los cambios a nuestro repositorio mediante un `pull`."
   ]
  },
  {
   "cell_type": "code",
   "execution_count": 29,
   "metadata": {
    "collapsed": false,
    "hidden": true
   },
   "outputs": [
    {
     "name": "stdout",
     "output_type": "stream",
     "text": [
      "Merge made by the 'recursive' strategy.\n",
      " inicio.txt | 1 +\n",
      " 1 file changed, 1 insertion(+)\n"
     ]
    },
    {
     "name": "stderr",
     "output_type": "stream",
     "text": [
      "From /mnt/homes/home/david/Desktop/original\n",
      "   ce94b43..d68cd6f  master     -> origin/master\n"
     ]
    }
   ],
   "source": [
    ";git pull"
   ]
  },
  {
   "cell_type": "markdown",
   "metadata": {
    "hidden": true
   },
   "source": [
    "y automaticamente se hace un \"merge\" que combina los cambios de las dos partes.\n",
    "\n",
    "Sin embargo, debemos hacer push para que los cambios, que se hicieron a nivel del repositorio de Bob, queden en el repositorio central. Similarmente, actualizamos a alice."
   ]
  },
  {
   "cell_type": "code",
   "execution_count": 30,
   "metadata": {
    "collapsed": false,
    "hidden": true
   },
   "outputs": [
    {
     "name": "stderr",
     "output_type": "stream",
     "text": [
      "To /mnt/homes/home/david/Desktop/original.git\n",
      "   d68cd6f..6aef0c9  master -> master\n"
     ]
    }
   ],
   "source": [
    ";git push"
   ]
  },
  {
   "cell_type": "code",
   "execution_count": 31,
   "metadata": {
    "collapsed": false,
    "hidden": true
   },
   "outputs": [
    {
     "name": "stdout",
     "output_type": "stream",
     "text": [
      "/mnt/homes/home/david/Desktop/alice\n"
     ]
    }
   ],
   "source": [
    ";cd ../alice"
   ]
  },
  {
   "cell_type": "code",
   "execution_count": 32,
   "metadata": {
    "collapsed": false,
    "hidden": true
   },
   "outputs": [
    {
     "name": "stdout",
     "output_type": "stream",
     "text": [
      "Updating d68cd6f..6aef0c9\n",
      "Fast-forward\n",
      " idea_bob.txt | 1 +\n",
      " 1 file changed, 1 insertion(+)\n"
     ]
    },
    {
     "name": "stderr",
     "output_type": "stream",
     "text": [
      "From /mnt/homes/home/david/Desktop/original\n",
      "   d68cd6f..6aef0c9  master     -> origin/master\n"
     ]
    }
   ],
   "source": [
    ";git pull"
   ]
  },
  {
   "cell_type": "code",
   "execution_count": 33,
   "metadata": {
    "collapsed": false,
    "hidden": true
   },
   "outputs": [
    {
     "name": "stdout",
     "output_type": "stream",
     "text": [
      "*   commit 6aef0c9f7a47b398c01983b2e80c1cfe0addb7a7\n",
      "|\\  Merge: ca086b7 d68cd6f\n",
      "| | Author: Bob <davidwarro@gmail.com>\n",
      "| | Date:   Fri Feb 24 15:02:20 2017 -0600\n",
      "| | \n",
      "| |     Merge branch 'master' of /mnt/homes/home/david/Desktop/original\n",
      "| |   \n",
      "| * commit d68cd6f7d13c5d323c5ada1986f1343f00af6ce3\n",
      "| | Author: davidphysdavalos <davidwarro@gmail.com>\n",
      "| | Date:   Fri Feb 24 15:02:18 2017 -0600\n",
      "| | \n",
      "| |     Se anade la fecha\n",
      "| |   \n",
      "* | commit ca086b7372d42cc84fd964e04ebf004b65e03b6a\n",
      "|/  Author: Bob <davidwarro@gmail.com>\n",
      "|   Date:   Fri Feb 24 15:02:19 2017 -0600\n",
      "|   \n",
      "|       Se anade otra fecha\n",
      "|  \n",
      "* commit ce94b43bab15d6408ec4d3e78233a65eec2a69e6\n",
      "| Author: Bob <davidwarro@gmail.com>\n",
      "| Date:   Fri Feb 24 15:02:15 2017 -0600\n",
      "| \n",
      "|     Nueva idea\n",
      "|  \n",
      "* commit 66ef9145b9f12f222e419adc7942570010289df8\n",
      "| Author: davidphysdavalos <davidwarro@gmail.com>\n",
      "| Date:   Fri Feb 24 15:02:12 2017 -0600\n",
      "| \n",
      "|     Se mejora el gitignore y se anade mas informcion a inicio.txt\n",
      "|  \n",
      "* commit 600fbcc03e46cdfffda5711d1b9ba2c9fbbb1b96\n",
      "  Author: davidphysdavalos <davidwarro@gmail.com>\n",
      "  Date:   Fri Feb 24 15:02:07 2017 -0600\n",
      "  \n",
      "      Commit inicial\n"
     ]
    }
   ],
   "source": [
    ";git log --graph --pretty"
   ]
  },
  {
   "cell_type": "markdown",
   "metadata": {
    "hidden": true
   },
   "source": [
    "### Cuando cambiamos el mismo archivo\n",
    "\n",
    "Esto no debería pasar. Pero en la practica, nos sucede con cierta frecuencia, especialmente editando notas. \n",
    "\n",
    "Vamos a hacer cambios en las dos partes (Alice y Bob) y veamos como se comporta `git` en cada una y como resolverlo. Ambas partes editarán el archivo `inicio.txt`."
   ]
  },
  {
   "cell_type": "code",
   "execution_count": 34,
   "metadata": {
    "collapsed": false,
    "hidden": true
   },
   "outputs": [
    {
     "name": "stdout",
     "output_type": "stream",
     "text": [
      "/mnt/homes/home/david/Desktop/alice\n"
     ]
    }
   ],
   "source": [
    ";pwd"
   ]
  },
  {
   "cell_type": "code",
   "execution_count": 35,
   "metadata": {
    "collapsed": false,
    "hidden": true
   },
   "outputs": [
    {
     "name": "stdout",
     "output_type": "stream",
     "text": [
      "[master 12c8ffb] Otra idea de alicia\n",
      " 1 file changed, 1 insertion(+)\n"
     ]
    },
    {
     "name": "stderr",
     "output_type": "stream",
     "text": [
      "To /mnt/homes/home/david/Desktop/original.git\n",
      "   6aef0c9..12c8ffb  master -> master\n"
     ]
    }
   ],
   "source": [
    ";echo \"comentario de alicia\" >> inicio.txt && git add . && git commit -m\"Otra idea de alicia\" && git push"
   ]
  },
  {
   "cell_type": "code",
   "execution_count": 36,
   "metadata": {
    "collapsed": false,
    "hidden": true
   },
   "outputs": [
    {
     "name": "stdout",
     "output_type": "stream",
     "text": [
      "/mnt/homes/home/david/Desktop/bob\n"
     ]
    }
   ],
   "source": [
    ";cd ../bob"
   ]
  },
  {
   "cell_type": "code",
   "execution_count": 37,
   "metadata": {
    "collapsed": false,
    "hidden": true
   },
   "outputs": [
    {
     "name": "stdout",
     "output_type": "stream",
     "text": [
      "[master f8b9955] Otra idea de bob\n",
      " 1 file changed, 1 insertion(+)\n"
     ]
    }
   ],
   "source": [
    ";echo \"comentario de bob\" >> inicio.txt && git add . && git commit -m\"Otra idea de bob\""
   ]
  },
  {
   "cell_type": "code",
   "execution_count": 38,
   "metadata": {
    "collapsed": false,
    "hidden": true
   },
   "outputs": [
    {
     "name": "stderr",
     "output_type": "stream",
     "text": [
      "To /mnt/homes/home/david/Desktop/original.git\n",
      " ! [rejected]        master -> master (fetch first)\n",
      "error: failed to push some refs to '/mnt/homes/home/david/Desktop/original.git'\n",
      "hint: Updates were rejected because the remote contains work that you do\n",
      "hint: not have locally. This is usually caused by another repository pushing\n",
      "hint: to the same ref. You may want to first integrate the remote changes\n",
      "hint: (e.g., 'git pull ...') before pushing again.\n",
      "hint: See the 'Note about fast-forwards' in 'git push --help' for details.\n"
     ]
    }
   ],
   "source": [
    ";git push"
   ]
  },
  {
   "cell_type": "markdown",
   "metadata": {
    "hidden": true
   },
   "source": [
    "Naturalmente, los cambios de nuevo son rechazados. Intentamos hacer un pull, pero en esta ocasión tenemos un mensaje de error un poco mas severo. "
   ]
  },
  {
   "cell_type": "code",
   "execution_count": 39,
   "metadata": {
    "collapsed": false,
    "hidden": true
   },
   "outputs": [
    {
     "name": "stdout",
     "output_type": "stream",
     "text": [
      "Auto-merging inicio.txt\n",
      "CONFLICT (content): Merge conflict in inicio.txt\n",
      "Automatic merge failed; fix conflicts and then commit the result.\n"
     ]
    },
    {
     "name": "stderr",
     "output_type": "stream",
     "text": [
      "From /mnt/homes/home/david/Desktop/original\n",
      "   6aef0c9..12c8ffb  master     -> origin/master\n"
     ]
    }
   ],
   "source": [
    ";git pull"
   ]
  },
  {
   "cell_type": "markdown",
   "metadata": {
    "hidden": true
   },
   "source": [
    "Este error indica que tenemos qeu resolver el conflicto en forma manual. Si nuestro archivo es código puro, como en este caso, no hay problema. Si es un archivo un poco mas complicado, típicamente toca escoger alguna de las versiones. En nuestro caso, podemos ver los dos contenidos del archivo:"
   ]
  },
  {
   "cell_type": "code",
   "execution_count": 40,
   "metadata": {
    "collapsed": false,
    "hidden": true
   },
   "outputs": [
    {
     "name": "stdout",
     "output_type": "stream",
     "text": [
      "iniciamos este archivo con perros y gatos\n",
      "mas informacion\n",
      "vie feb 24 15:02:18 CST 2017\n",
      "<<<<<<< HEAD\n",
      "comentario de bob\n",
      "=======\n",
      "comentario de alicia\n",
      ">>>>>>> 12c8ffbf5c58554745f9b54bc4f8d8b31cfaa627\n"
     ]
    }
   ],
   "source": [
    ";cat inicio.txt"
   ]
  },
  {
   "cell_type": "markdown",
   "metadata": {
    "hidden": true
   },
   "source": [
    "Podemos editarlo manualmente para que ahora se vea asi:"
   ]
  },
  {
   "cell_type": "code",
   "execution_count": 41,
   "metadata": {
    "collapsed": false,
    "hidden": true
   },
   "outputs": [
    {
     "name": "stdout",
     "output_type": "stream",
     "text": [
      "iniciamos este archivo con perros y gatos\n",
      "mas informacion\n",
      "vie feb 24 15:02:18 CST 2017\n",
      "comentario de bob\n",
      "comentario de alicia\n"
     ]
    }
   ],
   "source": [
    ";cat inicio.txt"
   ]
  },
  {
   "cell_type": "markdown",
   "metadata": {
    "collapsed": true,
    "hidden": true
   },
   "source": [
    "Y ya podemos hacer un commit y su posterior push."
   ]
  },
  {
   "cell_type": "code",
   "execution_count": 42,
   "metadata": {
    "collapsed": false,
    "hidden": true
   },
   "outputs": [
    {
     "name": "stdout",
     "output_type": "stream",
     "text": [
      "[master f21d4ff] Hicimos un merge manual\n",
      "On branch master\n",
      "Your branch is up-to-date with 'origin/master'.\n",
      "\n",
      "nothing to commit, working directory clean\n"
     ]
    },
    {
     "name": "stderr",
     "output_type": "stream",
     "text": [
      "To /mnt/homes/home/david/Desktop/original.git\n",
      "   12c8ffb..f21d4ff  master -> master\n"
     ]
    }
   ],
   "source": [
    ";git add . && git commit -m\"Hicimos un merge manual\" && git push && git status"
   ]
  },
  {
   "cell_type": "markdown",
   "metadata": {
    "heading_collapsed": true
   },
   "source": [
    "# Trabajando en ramas"
   ]
  },
  {
   "cell_type": "markdown",
   "metadata": {
    "hidden": true
   },
   "source": [
    "El concepto de una *rama* (\"branch\") en git provee una forma sencilla y eficiente de trabajar en nuevas ideas, o de colaborar en un proyecto común, evitando romper cosas que a priori ya funcionan.\n",
    "\n",
    "Para empezar, listemos las ramas existentes de un proyecto (por ejemplo, en el directorio `Alicia/`):\n",
    "```\n",
    "    > git branch\n",
    "```\n",
    "o usando\n",
    "```\n",
    "    > git branch -v\n",
    "```\n",
    "que brinda además el hash del último commit. Lo que esto indica es que existe únicamente la rama `master`, que es la rama que se crea por default (y en algún sentido es la principal), y el asterisco indica que estamos trabajando en esa rama."
   ]
  },
  {
   "cell_type": "markdown",
   "metadata": {
    "hidden": true
   },
   "source": [
    "Para crear una nueva rama, ejecutamos:\n",
    "```\n",
    "    > git branch <nombre_rama>\n",
    "```\n",
    "donde `<nombre_rama>` es el nombre de la rama, que es más o menos arbitrario y flexible. Un \n",
    "ejemplo es: `bugfix1`.\n",
    "\n",
    "Después de ejecutar alguna de estas instrucciones, `git branch -v` nos informa que *ambas* ramas, `master` y `bugfix1` existen, ambas están en el (mismo) último commit, y el asterisco indica que estamos en la rama `master` aún.\n",
    "\n",
    "Para cambiarnos de rama, ejecutamos:\n",
    "```\n",
    "    > git checkout <nombre_rama>\n",
    "```\n",
    "Nuevamente, existe un atajo para crear y cambiarnos de rama de un golpe: `git checkout -b <nombre_rama>`.\n",
    "\n",
    "Ahora, la linea de status cobra mas sentido. "
   ]
  },
  {
   "cell_type": "code",
   "execution_count": 43,
   "metadata": {
    "collapsed": false,
    "hidden": true
   },
   "outputs": [
    {
     "name": "stdout",
     "output_type": "stream",
     "text": [
      "On branch bugfix1\n",
      "nothing to commit, working directory clean\n"
     ]
    },
    {
     "name": "stderr",
     "output_type": "stream",
     "text": [
      "Switched to a new branch 'bugfix1'\n"
     ]
    }
   ],
   "source": [
    ";git checkout -b bugfix1 && git status"
   ]
  },
  {
   "cell_type": "markdown",
   "metadata": {
    "hidden": true
   },
   "source": [
    "Ahora podemos crear un archivo nuevo, y modificar uno existente. "
   ]
  },
  {
   "cell_type": "code",
   "execution_count": 44,
   "metadata": {
    "collapsed": true,
    "hidden": true
   },
   "outputs": [],
   "source": [
    ";echo \"propuesta para arreglo de bug 1\" >> inicio.txt && echo \"nuevo codigo qeu lo corrige\" >> arreglo_bug1.txt"
   ]
  },
  {
   "cell_type": "code",
   "execution_count": 45,
   "metadata": {
    "collapsed": false,
    "hidden": true
   },
   "outputs": [
    {
     "name": "stdout",
     "output_type": "stream",
     "text": [
      "[bugfix1 8dfc5e1] Primer intento de correccion\n",
      " 2 files changed, 2 insertions(+)\n",
      " create mode 100644 arreglo_bug1.txt\n"
     ]
    }
   ],
   "source": [
    ";git add . && git commit -m\"Primer intento de correccion\""
   ]
  },
  {
   "cell_type": "code",
   "execution_count": 46,
   "metadata": {
    "collapsed": false,
    "hidden": true
   },
   "outputs": [
    {
     "name": "stdout",
     "output_type": "stream",
     "text": [
      "arreglo_bug1.txt\n",
      "idea_bob.txt\n",
      "inicio.txt\n"
     ]
    }
   ],
   "source": [
    ";ls"
   ]
  },
  {
   "cell_type": "code",
   "execution_count": 47,
   "metadata": {
    "collapsed": false,
    "hidden": true
   },
   "outputs": [
    {
     "name": "stdout",
     "output_type": "stream",
     "text": [
      "iniciamos este archivo con perros y gatos\n",
      "mas informacion\n",
      "vie feb 24 15:02:18 CST 2017\n",
      "comentario de bob\n",
      "comentario de alicia\n",
      "propuesta para arreglo de bug 1\n"
     ]
    }
   ],
   "source": [
    ";cat inicio.txt"
   ]
  },
  {
   "cell_type": "code",
   "execution_count": 48,
   "metadata": {
    "collapsed": false,
    "hidden": true
   },
   "outputs": [
    {
     "name": "stdout",
     "output_type": "stream",
     "text": [
      "Your branch is up-to-date with 'origin/master'.\n"
     ]
    },
    {
     "name": "stderr",
     "output_type": "stream",
     "text": [
      "Switched to branch 'master'\n"
     ]
    }
   ],
   "source": [
    ";git checkout master"
   ]
  },
  {
   "cell_type": "code",
   "execution_count": 49,
   "metadata": {
    "collapsed": false,
    "hidden": true
   },
   "outputs": [
    {
     "name": "stdout",
     "output_type": "stream",
     "text": [
      "idea_bob.txt\n",
      "inicio.txt\n"
     ]
    }
   ],
   "source": [
    ";ls"
   ]
  },
  {
   "cell_type": "code",
   "execution_count": 50,
   "metadata": {
    "collapsed": false,
    "hidden": true
   },
   "outputs": [
    {
     "name": "stdout",
     "output_type": "stream",
     "text": [
      "iniciamos este archivo con perros y gatos\n",
      "mas informacion\n",
      "vie feb 24 15:02:18 CST 2017\n",
      "comentario de bob\n",
      "comentario de alicia\n"
     ]
    }
   ],
   "source": [
    ";cat inicio.txt "
   ]
  },
  {
   "cell_type": "markdown",
   "metadata": {
    "hidden": true
   },
   "source": [
    "El punto importante hasta el momento es que la historia de los dos branches (locales) ha divergido, y *ambas* historias están en ambas ramas.\n",
    "\n",
    "Supongamos ahora que ya están satisfechos con los cambios que han hecho, después de muchas pruebas exhaustivas y otras fallidas (tal vez en otras ramas). Ahora queremos poner estos cambios en la rama `master`. Para esto, primero nos cambiamos a `master`, que es la rama a donde queremos pasar los cambios, y después hacemos un `merge`, o sea, fundimos las dos historias:\n",
    "```\n",
    "    > git checkout master   \n",
    "    > git merge <nombre_rama>\n",
    "```\n",
    "En nuestro caso, podemos simplemente hacer un merge, de la misma manera que haciamos con otros repositorios. En este caso, lo podemos hacer directamente. "
   ]
  },
  {
   "cell_type": "code",
   "execution_count": 51,
   "metadata": {
    "collapsed": false,
    "hidden": true
   },
   "outputs": [
    {
     "name": "stdout",
     "output_type": "stream",
     "text": [
      "Your branch is up-to-date with 'origin/master'.\n",
      "Updating f21d4ff..8dfc5e1\n",
      "Fast-forward\n",
      " arreglo_bug1.txt | 1 +\n",
      " inicio.txt       | 1 +\n",
      " 2 files changed, 2 insertions(+)\n",
      " create mode 100644 arreglo_bug1.txt\n"
     ]
    },
    {
     "name": "stderr",
     "output_type": "stream",
     "text": [
      "Already on 'master'\n"
     ]
    }
   ],
   "source": [
    ";git checkout master && git merge bugfix1"
   ]
  },
  {
   "cell_type": "markdown",
   "metadata": {
    "hidden": true
   },
   "source": [
    "De nuevo, un `git log` puede resultar particularmente util, si hemos hecho cambios en diferentes branches."
   ]
  },
  {
   "cell_type": "markdown",
   "metadata": {
    "heading_collapsed": true
   },
   "source": [
    "#  Facilitar el flujo de trabajo con GitHub"
   ]
  },
  {
   "cell_type": "markdown",
   "metadata": {
    "hidden": true
   },
   "source": [
    "Para evitar que GitHub te esté pidiendo tu usuario y contraseña todo el tiempo, es necesario usar *claves de SSH* (SSH keys). En Linux y Mac, el procedimiento es como sigue. NB: **No** hacer esto desde una máquina/cuenta pública."
   ]
  },
  {
   "cell_type": "markdown",
   "metadata": {
    "hidden": true
   },
   "source": [
    "Utiliza el comando `ssh-keygen` para generar claves nuevas. Te pedirá que pongas una clave (\"passphrase\"); esta clave tendrás que ponerla sólo una vez por sesión."
   ]
  },
  {
   "cell_type": "code",
   "execution_count": 52,
   "metadata": {
    "collapsed": false,
    "hidden": true
   },
   "outputs": [
    {
     "name": "stdout",
     "output_type": "stream",
     "text": [
      "Generating public/private rsa key pair.\n"
     ]
    },
    {
     "name": "stderr",
     "output_type": "stream",
     "text": [
      "Enter file in which to save the key (/home/david/.ssh/id_rsa): "
     ]
    }
   ],
   "source": [
    ";ssh-keygen"
   ]
  },
  {
   "cell_type": "markdown",
   "metadata": {
    "hidden": true
   },
   "source": [
    "Esto generará claves en el directorio escondido `~/.ssh` en tu directorio hogar:"
   ]
  },
  {
   "cell_type": "code",
   "execution_count": 53,
   "metadata": {
    "collapsed": false,
    "hidden": true
   },
   "outputs": [
    {
     "name": "stdout",
     "output_type": "stream",
     "text": [
      "authorized_keys\n",
      "config\n",
      "config~\n",
      "id_rsa\n",
      "id_rsa.pub\n",
      "known_hosts\n",
      "known_hosts.old\n",
      "sabe\n"
     ]
    }
   ],
   "source": [
    ";ls ~/.ssh"
   ]
  },
  {
   "cell_type": "markdown",
   "metadata": {
    "hidden": true
   },
   "source": [
    "Ahora, copia la clave pública; esto se puede hacer a mano (copiando el *contenido*  del archivo `id_rsa.pub`), o usando un programa. E.g. en Mac, puedes usar `pbcopy` para copiar el contenido de un archivo al clipboard:"
   ]
  },
  {
   "cell_type": "code",
   "execution_count": 54,
   "metadata": {
    "collapsed": false,
    "hidden": true
   },
   "outputs": [
    {
     "name": "stderr",
     "output_type": "stream",
     "text": [
      "/bin/bash: pbcopy: command not found\n"
     ]
    }
   ],
   "source": [
    ";pbcopy < ~/.ssh/id_rsa.pub"
   ]
  },
  {
   "cell_type": "markdown",
   "metadata": {
    "hidden": true
   },
   "source": [
    "Ahora, hay que dar de alta las claves en GitHub:\n",
    "\n",
    "- Ve a la página de tu cuenta en GitHub\n",
    "- Escoge `Settings` (arriba, del lado derecho)\n",
    "- Escoge `SSH keys`\n",
    "- Escoge `Add SSH key`\n",
    "- Pega lo que copiaste\n",
    "\n",
    "Ya deberías poder hacer transacciones con GitHub sin que te pida tu usuario cada vez.\n"
   ]
  },
  {
   "cell_type": "markdown",
   "metadata": {
    "hidden": true
   },
   "source": [
    "Una vez más, **no** hagas esto en un máquina o cuenta pública."
   ]
  },
  {
   "cell_type": "markdown",
   "metadata": {
    "heading_collapsed": true
   },
   "source": [
    "# Trabajar con un fork"
   ]
  },
  {
   "cell_type": "markdown",
   "metadata": {
    "hidden": true
   },
   "source": [
    "Normalmente hacemos un **fork** de un repositorio de interés en GitHub, es decir, una copia del repositorio en tu propia cuenta de GitHub.\n",
    "\n",
    "Al hacer `git clone ...` de tu fork, `git` provee un remote (es decir, un nombre para un repositorio remoto) llamado `origin`, que apunta a tu fork. Esto lo podemos ver con"
   ]
  },
  {
   "cell_type": "code",
   "execution_count": 62,
   "metadata": {
    "collapsed": false,
    "hidden": true
   },
   "outputs": [
    {
     "ename": "LoadError",
     "evalue": "chdir Desktop: no such file or directory (ENOENT)",
     "output_type": "error",
     "traceback": [
      "chdir Desktop: no such file or directory (ENOENT)",
      "",
      " in uv_error at ./libuv.jl:68 [inlined]",
      " in cd(::String) at ./file.jl:39",
      " in repl_cmd(::Cmd, ::Base.PipeEndpoint) at ./client.jl:83"
     ]
    }
   ],
   "source": [
    ";cd Desktop"
   ]
  },
  {
   "cell_type": "code",
   "execution_count": 63,
   "metadata": {
    "collapsed": false,
    "hidden": true
   },
   "outputs": [
    {
     "name": "stderr",
     "output_type": "stream",
     "text": [
      "Cloning into 'MetodosNumericosAvanzados'...\n"
     ]
    }
   ],
   "source": [
    ";git clone https://github.com/davidphysdavalos/MetodosNumericosAvanzados.git"
   ]
  },
  {
   "cell_type": "code",
   "execution_count": 64,
   "metadata": {
    "collapsed": false,
    "hidden": true
   },
   "outputs": [
    {
     "name": "stdout",
     "output_type": "stream",
     "text": [
      "/mnt/homes/home/david/Desktop/bob/MetodosNumericosAvanzados/MetodosNumericosAvanzados\n"
     ]
    }
   ],
   "source": [
    ";cd MetodosNumericosAvanzados"
   ]
  },
  {
   "cell_type": "code",
   "execution_count": 65,
   "metadata": {
    "collapsed": false,
    "hidden": true
   },
   "outputs": [
    {
     "name": "stdout",
     "output_type": "stream",
     "text": [
      "origin\thttps://github.com/davidphysdavalos/MetodosNumericosAvanzados.git (fetch)\n",
      "origin\thttps://github.com/davidphysdavalos/MetodosNumericosAvanzados.git (push)\n"
     ]
    }
   ],
   "source": [
    "; git remote -v"
   ]
  },
  {
   "cell_type": "markdown",
   "metadata": {
    "hidden": true
   },
   "source": [
    "Vemos que `origin` apunta al fork del repositorio `MetodosNumericosAvanzados` en mi cuenta de GitHub (con usuario `dpsanders`).\n",
    "\n",
    "Sin embargo, para mantener actualizado nuestro fork con respecto al repositorio original, debemos darle a conocer a `git` que también existe dicho repositorio. Si hacemos"
   ]
  },
  {
   "cell_type": "code",
   "execution_count": 66,
   "metadata": {
    "collapsed": false,
    "hidden": true
   },
   "outputs": [
    {
     "name": "stdout",
     "output_type": "stream",
     "text": [
      "GIT-REMOTE(1)                     Git Manual                     GIT-REMOTE(1)\n",
      "\n",
      "\n",
      "\n",
      "NAME\n",
      "       git-remote - manage set of tracked repositories\n",
      "\n",
      "SYNOPSIS\n",
      "       git remote [-v | --verbose]\n",
      "       git remote add [-t <branch>] [-m <master>] [-f] [--[no-]tags] [--mirror=<fetch|push>] <name> <url>\n",
      "       git remote rename <old> <new>\n",
      "       git remote remove <name>\n",
      "       git remote set-head <name> (-a | --auto | -d | --delete | <branch>)\n",
      "       git remote set-branches [--add] <name> <branch>...\n",
      "       git remote set-url [--push] <name> <newurl> [<oldurl>]\n",
      "       git remote set-url --add [--push] <name> <newurl>\n",
      "       git remote set-url --delete [--push] <name> <url>\n",
      "       git remote [-v | --verbose] show [-n] <name>...\n",
      "       git remote prune [-n | --dry-run] <name>...\n",
      "       git remote [-v | --verbose] update [-p | --prune] [(<group> | <remote>)...]\n",
      "\n",
      "\n",
      "DESCRIPTION\n",
      "       Manage the set of repositories (\"remotes\") whose branches you track.\n",
      "\n",
      "OPTIONS\n",
      "       -v, --verbose\n",
      "           Be a little more verbose and show remote url after name. NOTE: This\n",
      "           must be placed between remote and subcommand.\n",
      "\n",
      "COMMANDS\n",
      "       With no arguments, shows a list of existing remotes. Several\n",
      "       subcommands are available to perform operations on the remotes.\n",
      "\n",
      "       add\n",
      "           Adds a remote named <name> for the repository at <url>. The command\n",
      "           git fetch <name> can then be used to create and update\n",
      "           remote-tracking branches <name>/<branch>.\n",
      "\n",
      "           With -f option, git fetch <name> is run immediately after the\n",
      "           remote information is set up.\n",
      "\n",
      "           With --tags option, git fetch <name> imports every tag from the\n",
      "           remote repository.\n",
      "\n",
      "           With --no-tags option, git fetch <name> does not import tags from\n",
      "           the remote repository.\n",
      "\n",
      "           With -t <branch> option, instead of the default glob refspec for\n",
      "           the remote to track all branches under the refs/remotes/<name>/\n",
      "           namespace, a refspec to track only <branch> is created. You can\n",
      "           give more than one -t <branch> to track multiple branches without\n",
      "           grabbing all branches.\n",
      "\n",
      "           With -m <master> option, a symbolic-ref refs/remotes/<name>/HEAD is\n",
      "           set up to point at remote’s <master> branch. See also the set-head\n",
      "           command.\n",
      "\n",
      "           When a fetch mirror is created with --mirror=fetch, the refs will\n",
      "           not be stored in the refs/remotes/ namespace, but rather everything\n",
      "           in refs/ on the remote will be directly mirrored into refs/ in the\n",
      "           local repository. This option only makes sense in bare\n",
      "           repositories, because a fetch would overwrite any local commits.\n",
      "\n",
      "           When a push mirror is created with --mirror=push, then git push\n",
      "           will always behave as if --mirror was passed.\n",
      "\n",
      "       rename\n",
      "           Rename the remote named <old> to <new>. All remote-tracking\n",
      "           branches and configuration settings for the remote are updated.\n",
      "\n",
      "           In case <old> and <new> are the same, and <old> is a file under\n",
      "           $GIT_DIR/remotes or $GIT_DIR/branches, the remote is converted to\n",
      "           the configuration file format.\n",
      "\n",
      "       remove, rm\n",
      "           Remove the remote named <name>. All remote-tracking branches and\n",
      "           configuration settings for the remote are removed.\n",
      "\n",
      "       set-head\n",
      "           Sets or deletes the default branch (i.e. the target of the\n",
      "           symbolic-ref refs/remotes/<name>/HEAD) for the named remote. Having\n",
      "           a default branch for a remote is not required, but allows the name\n",
      "           of the remote to be specified in lieu of a specific branch. For\n",
      "           example, if the default branch for origin is set to master, then\n",
      "           origin may be specified wherever you would normally specify\n",
      "           origin/master.\n",
      "\n",
      "           With -d or --delete, the symbolic ref refs/remotes/<name>/HEAD is\n",
      "           deleted.\n",
      "\n",
      "           With -a or --auto, the remote is queried to determine its HEAD,\n",
      "           then the symbolic-ref refs/remotes/<name>/HEAD is set to the same\n",
      "           branch. e.g., if the remote HEAD is pointed at next, \"git remote\n",
      "           set-head origin -a\" will set the symbolic-ref\n",
      "           refs/remotes/origin/HEAD to refs/remotes/origin/next. This will\n",
      "           only work if refs/remotes/origin/next already exists; if not it\n",
      "           must be fetched first.\n",
      "\n",
      "           Use <branch> to set the symbolic-ref refs/remotes/<name>/HEAD\n",
      "           explicitly. e.g., \"git remote set-head origin master\" will set the\n",
      "           symbolic-ref refs/remotes/origin/HEAD to\n",
      "           refs/remotes/origin/master. This will only work if\n",
      "           refs/remotes/origin/master already exists; if not it must be\n",
      "           fetched first.\n",
      "\n",
      "       set-branches\n",
      "           Changes the list of branches tracked by the named remote. This can\n",
      "           be used to track a subset of the available remote branches after\n",
      "           the initial setup for a remote.\n",
      "\n",
      "           The named branches will be interpreted as if specified with the -t\n",
      "           option on the git remote add command line.\n",
      "\n",
      "           With --add, instead of replacing the list of currently tracked\n",
      "           branches, adds to that list.\n",
      "\n",
      "       set-url\n",
      "           Changes URL remote points to. Sets first URL remote points to\n",
      "           matching regex <oldurl> (first URL if no <oldurl> is given) to\n",
      "           <newurl>. If <oldurl> doesn’t match any URL, error occurs and\n",
      "           nothing is changed.\n",
      "\n",
      "           With --push, push URLs are manipulated instead of fetch URLs.\n",
      "\n",
      "           With --add, instead of changing some URL, new URL is added.\n",
      "\n",
      "           With --delete, instead of changing some URL, all URLs matching\n",
      "           regex <url> are deleted. Trying to delete all non-push URLs is an\n",
      "           error.\n",
      "\n",
      "       show\n",
      "           Gives some information about the remote <name>.\n",
      "\n",
      "           With -n option, the remote heads are not queried first with git\n",
      "           ls-remote <name>; cached information is used instead.\n",
      "\n",
      "       prune\n",
      "           Deletes all stale remote-tracking branches under <name>. These\n",
      "           stale branches have already been removed from the remote repository\n",
      "           referenced by <name>, but are still locally available in\n",
      "           \"remotes/<name>\".\n",
      "\n",
      "           With --dry-run option, report what branches will be pruned, but do\n",
      "           not actually prune them.\n",
      "\n",
      "       update\n",
      "           Fetch updates for a named set of remotes in the repository as\n",
      "           defined by remotes.<group>. If a named group is not specified on\n",
      "           the command line, the configuration parameter remotes.default will\n",
      "           be used; if remotes.default is not defined, all remotes which do\n",
      "           not have the configuration parameter\n",
      "           remote.<name>.skipDefaultUpdate set to true will be updated. (See\n",
      "           git-config(1)).\n",
      "\n",
      "           With --prune option, prune all the remotes that are updated.\n",
      "\n",
      "DISCUSSION\n",
      "       The remote configuration is achieved using the remote.origin.url and\n",
      "       remote.origin.fetch configuration variables. (See git-config(1)).\n",
      "\n",
      "EXAMPLES\n",
      "       ·   Add a new remote, fetch, and check out a branch from it\n",
      "\n",
      "               $ git remote\n",
      "               origin\n",
      "               $ git branch -r\n",
      "                 origin/HEAD -> origin/master\n",
      "                 origin/master\n",
      "               $ git remote add staging git://git.kernel.org/.../gregkh/staging.git\n",
      "               $ git remote\n",
      "               origin\n",
      "               staging\n",
      "               $ git fetch staging\n",
      "               ...\n",
      "               From git://git.kernel.org/pub/scm/linux/kernel/git/gregkh/staging\n",
      "                * [new branch]      master     -> staging/master\n",
      "                * [new branch]      staging-linus -> staging/staging-linus\n",
      "                * [new branch]      staging-next -> staging/staging-next\n",
      "               $ git branch -r\n",
      "                 origin/HEAD -> origin/master\n",
      "                 origin/master\n",
      "                 staging/master\n",
      "                 staging/staging-linus\n",
      "                 staging/staging-next\n",
      "               $ git checkout -b staging staging/master\n",
      "               ...\n",
      "\n",
      "\n",
      "       ·   Imitate git clone but track only selected branches\n",
      "\n",
      "               $ mkdir project.git\n",
      "               $ cd project.git\n",
      "               $ git init\n",
      "               $ git remote add -f -t master -m master origin git://example.com/git.git/\n",
      "               $ git merge origin\n",
      "\n",
      "\n",
      "SEE ALSO\n",
      "       git-fetch(1) git-branch(1) git-config(1)\n",
      "\n",
      "GIT\n",
      "       Part of the git(1) suite\n",
      "\n",
      "\n",
      "\n",
      "Git 1.9.1                         03/21/2016                     GIT-REMOTE(1)\n"
     ]
    }
   ],
   "source": [
    ";git help remote"
   ]
  },
  {
   "cell_type": "markdown",
   "metadata": {
    "hidden": true
   },
   "source": [
    "vemos que hay un subcomando `add` de remote. Así que hacemos"
   ]
  },
  {
   "cell_type": "code",
   "execution_count": 67,
   "metadata": {
    "collapsed": false,
    "hidden": true
   },
   "outputs": [],
   "source": [
    "; git remote add upstream https://github.com/dpsanders/MetodosNumericosAvanzados"
   ]
  },
  {
   "cell_type": "markdown",
   "metadata": {
    "hidden": true
   },
   "source": [
    "El nombre usual que se le asigna al repositorio original es `upstream`.\n",
    "\n",
    "Ahora podemos actualizar nuestro repositorio *local* con "
   ]
  },
  {
   "cell_type": "code",
   "execution_count": 68,
   "metadata": {
    "collapsed": false,
    "hidden": true
   },
   "outputs": [
    {
     "name": "stdout",
     "output_type": "stream",
     "text": [
      "Already up-to-date.\n"
     ]
    },
    {
     "name": "stderr",
     "output_type": "stream",
     "text": [
      "From https://github.com/dpsanders/MetodosNumericosAvanzados\n",
      " * branch            master     -> FETCH_HEAD\n",
      " * [new branch]      master     -> upstream/master\n"
     ]
    }
   ],
   "source": [
    "; git pull upstream master"
   ]
  },
  {
   "cell_type": "markdown",
   "metadata": {
    "hidden": true
   },
   "source": [
    "(el cual jala la rama `master` del repositorio apuntado por `upstream`).\n",
    "\n",
    "Ahora al hacer"
   ]
  },
  {
   "cell_type": "code",
   "execution_count": 70,
   "metadata": {
    "collapsed": false,
    "hidden": true
   },
   "outputs": [
    {
     "name": "stderr",
     "output_type": "stream",
     "text": [
      "Everything up-to-date\n"
     ]
    }
   ],
   "source": [
    "; git push"
   ]
  },
  {
   "cell_type": "markdown",
   "metadata": {
    "hidden": true
   },
   "source": [
    "empuja los cambios a `origin`, o sea, a nuestro propio fork."
   ]
  },
  {
   "cell_type": "markdown",
   "metadata": {
    "hidden": true
   },
   "source": [
    "* pull request: Una situación típica usando github, es que no tenemos los privilegios de hacer push directamente a *upstream*, lo que pódemos hacer es un *pull request*, es decir, desde nuestro fork (usado la pagina de github) le pedimos a los administradores del repositorio *upstream* que hagan un pull de nuestro fork."
   ]
  },
  {
   "cell_type": "markdown",
   "metadata": {
    "collapsed": true,
    "hidden": true
   },
   "source": [
    "* __Ejercicio:__ Hacer un fork del repositorio de la clase en su cuenta de github. Hacer un git clone de su fork y agregar un archivo con el formato que deben llevar las tareas, donde el contenido sea el nombre de su cerveza favorita o cualquier otra cosa.\n",
    "    * Recordemos el formato de la tarea: T(numero)(nombre).extension, para este ejercicio será T0(Su_nombre).txt\n",
    "    * Pasos:\n",
    "        * Entrar a la página de github del curso y hacer un fork.\n",
    "        * Hacer un clone del fork en su maquina.\n",
    "        * Crear un archivo dentro de la carpeta tareas cuyo nombre sea T0(Su_nombre).txt\n",
    "        * Hacer git _add, commit_ y _push_ a su fork, es decir:\n",
    "            ```\n",
    "            > git push\n",
    "            ```\n",
    "            lo que equivale a \n",
    "            ```\n",
    "            > git push origin master\n",
    "            ```\n",
    "        * Una vez actualizado su fork en github, presionar el botón que dice *pull request* y seguir las instrucciones.\n",
    "        * github mostrará las diferencias entre nuestor fork y el repositorio _upstream_ y nos dará la opción de documentar el pull request.\n",
    "        * Una vez hecho el pull request, el administrador del repositorio _upstream_ decide si aceptar los cambios y hacer un merge de los dos repositorios."
   ]
  },
  {
   "cell_type": "markdown",
   "metadata": {
    "heading_collapsed": true
   },
   "source": [
    "# Tarea"
   ]
  },
  {
   "cell_type": "markdown",
   "metadata": {
    "hidden": true
   },
   "source": [
    "* Agregar el origen _upstream_ al respositorio de la clase:\n",
    "    Ahora que todos cuentan con un fork del repositorio de la clase, en la copia local del mismo, en su maquina, deberán agregar el origen del repositorio _oficial_ de la clase como lo muestra el ejemplo en este notebook. Es decir, deberán hacer:\n",
    "    ```\n",
    "    > git remote add upstream https://github.com/carlospgmat03/2017-2_TS_Pineda\n",
    "    ```\n",
    "    Al repositorio local de su fork, de esta forma podrán tener al dia los cambios hechos en las clases ejecutando\n",
    "    ```\n",
    "    > git pull upstram master\n",
    "    ```\n",
    "    sin que se les olvide actualizar su fork (que es el repositorio al cual si estan autorizados a hacer push directamente):\n",
    "    ```\n",
    "    > git push\n",
    "    ```\n",
    "    que es lo mismo que:\n",
    "    ```\n",
    "    > git push origin master\n",
    "    ```\n",
    "    Este es el mecanismo con el cual subiran las tareas, es decir, añadirán las nuevas tareas, en el formato correcto, dentro de la carpeta de tareas de su repositorio local. Luego harán _push_ a su fork y entonces un _pull request_."
   ]
  },
  {
   "cell_type": "markdown",
   "metadata": {
    "heading_collapsed": true
   },
   "source": [
    "# Para la siguiente iteracion\n",
    "\n",
    "* Revisar que el git config funciona donde lo voy a hacer. \n",
    "* Poner los dibujitos explicitamente en el notebook\n",
    "\n"
   ]
  }
 ],
 "metadata": {
  "kernelspec": {
   "display_name": "Julia 0.5.0",
   "language": "julia",
   "name": "julia-0.5"
  },
  "language_info": {
   "file_extension": ".jl",
   "mimetype": "application/julia",
   "name": "julia",
   "version": "0.5.0"
  },
  "latex_envs": {
   "bibliofile": "biblio.bib",
   "cite_by": "apalike",
   "current_citInitial": 1,
   "eqLabelWithNumbers": true,
   "eqNumInitial": 0
  }
 },
 "nbformat": 4,
 "nbformat_minor": 0
}
