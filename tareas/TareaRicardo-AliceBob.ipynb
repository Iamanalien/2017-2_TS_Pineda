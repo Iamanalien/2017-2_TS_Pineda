{
 "cells": [
  {
   "cell_type": "markdown",
   "metadata": {},
   "source": [
    "P: Verificar que el estado de Bob antes de aprender los resultados de la medición de Alice, es equivalente a tener un estado $|0\\rangle$ o $|1\\rangle$ con igual probabilidad. Escribir la demostración en el notebook usando latex.\n",
    "\n",
    "\n",
    "Sea un estado de Bell para dos qubits \n",
    "\n",
    "\\begin{equation}\n",
    "    |Bell\\rangle = \\frac{ |0_A 0_B\\rangle + |1_A 1_B\\rangle }{\\sqrt{2}} \n",
    "\\end{equation}\n",
    "\n",
    "El qubit de Alice puede encontrarse en $0$ o $1$ con la misma probilidad (50-50), análogamente para Bob.\n",
    "\n",
    "Entonces si Alice mide su qubit obtendrá un resultado definido. Describiendo la medición de alice con con Operadores de proyección; sea el op. que actúa unicamente sobre el qubit de Alice y deja intacto al de Bob $(M_A \\otimes I_B)$. Entonces aplicando el operador anterior al estado de Bell\n",
    "\n",
    "\\begin{equation}\n",
    "\\begin{split}\n",
    "  (M_A \\otimes M_B) & = \\frac{1}{\\sqrt{2}} [M_A |0\\rangle_A \\otimes I_B |0\\rangle_B + M_A |1\\_A \\otimes I_B |1\\rangle_B]\n",
    " &  =\\frac{1}{\\sqrt{2}}[|M(0)\\rangle_A |0\\rangle_B\\ +\\ |M(1)\\rangle_A |1\\rangle_B]\n",
    "\\end{split}\n",
    "\\end{equation}\n",
    "\n",
    "La probabilidad de que Alice obtenga $0$ o $1$ si mide su qubit es \n",
    "\n",
    "\\begin{equation}\n",
    "\\begin{split}\n",
    "P_A(0) &=\\frac{| \\langle M(0)_A| \\langle 0_B| | 0_B \\rangle |M(0)\\rangle_A |^2}{2}\n",
    "&=\\frac{1}{2}\n",
    "\\end{split}\n",
    "\\end{equation}\n",
    "\n",
    "Análogamente para el resultado 1.\n",
    "\n",
    "¿Qué pasa en el estado de bob después de la medición de Alice?\n",
    "$\\rightarrow$ El estado de Bob ya está bien definido antes de que él mida.\n",
    "\n",
    "Entonces si consideramos un ensamble de pares de qubit representados por estados de Bell como en (1), los cuáles son medidos primero por Alice y depués por Bob entonces la estadística de resultados de Bob estará determinada por la probabilidad cuántica de Alice de modo que Bob medira $0$ o $1$ con la misma probabilidad de $\\frac{1}{2}$.\n",
    "\n",
    "Ahora si Bob desconoce que las partículas que medirá están enlazadas con las de Alice y que ella realiza una medición simempre antes que él para cada sistema en el ensamble, entonces Bob describirá su sistema con una función de onda tal que \n",
    "\n",
    "\\begin{equation}\n",
    "| \\psi\\rangle=\\frac{1}{\\sqrt{2}}(|1\\rangle  + |0\\rangle)\n",
    "\\end{equation}\n",
    "\n",
    "Por lo tanto la probabilidad de que Bob mida $0$ ó $1$ estará dada por la regla de Born como \n",
    "\n",
    "\\begin{equation}\n",
    "\\begin{split}\n",
    "P_B(0) &= |\\langle0| \\psi\\rangle|^2\n",
    "&= \\frac{1}{2}\n",
    "\\end{split}\n",
    "\\end{equation}\n",
    "\n",
    "Entonces la probabilidad de que Bob encuentre el resultado $0$ o $1$ es la misma, de modo que es posible describirlas por dos métodos distintos que físicamente son completamente distintos."
   ]
  },
  {
   "cell_type": "code",
   "execution_count": null,
   "metadata": {
    "collapsed": true
   },
   "outputs": [],
   "source": []
  },
  {
   "cell_type": "markdown",
   "metadata": {},
   "source": []
  }
 ],
 "metadata": {
  "kernelspec": {
   "display_name": "Julia 0.4.5",
   "language": "julia",
   "name": "julia-0.4"
  },
  "language_info": {
   "file_extension": ".jl",
   "mimetype": "application/julia",
   "name": "julia",
   "version": "0.4.5"
  }
 },
 "nbformat": 4,
 "nbformat_minor": 2
}
